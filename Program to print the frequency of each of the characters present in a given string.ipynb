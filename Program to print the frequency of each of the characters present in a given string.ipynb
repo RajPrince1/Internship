{
 "cells": [
  {
   "cell_type": "code",
   "execution_count": 2,
   "id": "2dbba3b9",
   "metadata": {},
   "outputs": [
    {
     "name": "stdout",
     "output_type": "stream",
     "text": [
      "Enter the string: O\n",
      "Please enter the char to find frequency of ta character\n",
      "O\n",
      "The frequency of the  O in the string is:  1\n"
     ]
    }
   ],
   "source": [
    "string=input(\"Enter the string: \")\n",
    "char=input(\"Please enter the char to find frequency of ta character\\n\")\n",
    "count=0\n",
    "for i in range(len(string)):\n",
    "    if(string[i]==char):\n",
    "        count=count+1\n",
    "print(\"The frequency of the \",char,\"in the string is: \",count)"
   ]
  },
  {
   "cell_type": "code",
   "execution_count": null,
   "id": "b55fc661",
   "metadata": {},
   "outputs": [],
   "source": []
  }
 ],
 "metadata": {
  "kernelspec": {
   "display_name": "Python 3 (ipykernel)",
   "language": "python",
   "name": "python3"
  },
  "language_info": {
   "codemirror_mode": {
    "name": "ipython",
    "version": 3
   },
   "file_extension": ".py",
   "mimetype": "text/x-python",
   "name": "python",
   "nbconvert_exporter": "python",
   "pygments_lexer": "ipython3",
   "version": "3.9.7"
  }
 },
 "nbformat": 4,
 "nbformat_minor": 5
}
